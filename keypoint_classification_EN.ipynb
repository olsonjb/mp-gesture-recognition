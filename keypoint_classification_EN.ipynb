{
  "cells": [
    {
      "cell_type": "code",
      "execution_count": 25,
      "metadata": {
        "id": "igMyGnjE9hEp"
      },
      "outputs": [],
      "source": [
        "import csv\n",
        "\n",
        "import numpy as np\n",
        "import tensorflow as tf\n",
        "from sklearn.model_selection import train_test_split\n",
        "\n",
        "RANDOM_SEED = 42"
      ]
    },
    {
      "cell_type": "markdown",
      "metadata": {
        "id": "t2HDvhIu9hEr"
      },
      "source": [
        "# Specify each path"
      ]
    },
    {
      "cell_type": "code",
      "execution_count": 26,
      "metadata": {
        "id": "9NvZP2Zn9hEy"
      },
      "outputs": [],
      "source": [
        "dataset = 'model/keypoint_classifier/keypoint.csv'\n",
        "model_save_path = 'model/keypoint_classifier/keypoint_classifier.hdf5'\n",
        "tflite_save_path = 'model/keypoint_classifier/keypoint_classifier.tflite'"
      ]
    },
    {
      "cell_type": "markdown",
      "metadata": {
        "id": "s5oMH7x19hEz"
      },
      "source": [
        "# Set number of classes"
      ]
    },
    {
      "cell_type": "code",
      "execution_count": 27,
      "metadata": {
        "id": "du4kodXL9hEz"
      },
      "outputs": [],
      "source": [
        "NUM_CLASSES = 8"
      ]
    },
    {
      "cell_type": "markdown",
      "metadata": {
        "id": "XjnL0uso9hEz"
      },
      "source": [
        "# Dataset reading"
      ]
    },
    {
      "cell_type": "code",
      "execution_count": 28,
      "metadata": {
        "id": "QT5ZqtEz9hE0"
      },
      "outputs": [],
      "source": [
        "X_dataset = np.loadtxt(dataset, delimiter=',', dtype='float32', usecols=list(range(1, (21 * 2) + 1)))"
      ]
    },
    {
      "cell_type": "code",
      "execution_count": 29,
      "metadata": {
        "id": "QmoKFsp49hE0"
      },
      "outputs": [],
      "source": [
        "y_dataset = np.loadtxt(dataset, delimiter=',', dtype='int32', usecols=(0))"
      ]
    },
    {
      "cell_type": "code",
      "execution_count": 30,
      "metadata": {
        "id": "xQU7JTZ_9hE0"
      },
      "outputs": [],
      "source": [
        "X_train, X_test, y_train, y_test = train_test_split(X_dataset, y_dataset, train_size=0.75, random_state=RANDOM_SEED)"
      ]
    },
    {
      "cell_type": "markdown",
      "metadata": {
        "id": "mxK_lETT9hE0"
      },
      "source": [
        "# Model building"
      ]
    },
    {
      "cell_type": "code",
      "execution_count": 31,
      "metadata": {
        "id": "vHBmUf1t9hE1"
      },
      "outputs": [],
      "source": [
        "model = tf.keras.models.Sequential([\n",
        "    tf.keras.layers.Input((21 * 2, )),\n",
        "    tf.keras.layers.Dropout(0.2),\n",
        "    tf.keras.layers.Dense(20, activation='relu'),\n",
        "    tf.keras.layers.Dropout(0.4),\n",
        "    tf.keras.layers.Dense(10, activation='relu'),\n",
        "    tf.keras.layers.Dense(NUM_CLASSES, activation='softmax')\n",
        "])"
      ]
    },
    {
      "cell_type": "code",
      "execution_count": 32,
      "metadata": {
        "colab": {
          "base_uri": "https://localhost:8080/"
        },
        "id": "ypqky9tc9hE1",
        "outputId": "5db082bb-30e3-4110-bf63-a1ee777ecd46"
      },
      "outputs": [
        {
          "name": "stdout",
          "output_type": "stream",
          "text": [
            "Model: \"sequential_1\"\n",
            "_________________________________________________________________\n",
            " Layer (type)                Output Shape              Param #   \n",
            "=================================================================\n",
            " dropout_2 (Dropout)         (None, 42)                0         \n",
            "                                                                 \n",
            " dense_3 (Dense)             (None, 20)                860       \n",
            "                                                                 \n",
            " dropout_3 (Dropout)         (None, 20)                0         \n",
            "                                                                 \n",
            " dense_4 (Dense)             (None, 10)                210       \n",
            "                                                                 \n",
            " dense_5 (Dense)             (None, 8)                 88        \n",
            "                                                                 \n",
            "=================================================================\n",
            "Total params: 1158 (4.52 KB)\n",
            "Trainable params: 1158 (4.52 KB)\n",
            "Non-trainable params: 0 (0.00 Byte)\n",
            "_________________________________________________________________\n"
          ]
        }
      ],
      "source": [
        "model.summary()  # tf.keras.utils.plot_model(model, show_shapes=True)"
      ]
    },
    {
      "cell_type": "code",
      "execution_count": 33,
      "metadata": {
        "id": "MbMjOflQ9hE1"
      },
      "outputs": [],
      "source": [
        "# Model checkpoint callback\n",
        "cp_callback = tf.keras.callbacks.ModelCheckpoint(\n",
        "    model_save_path, verbose=1, save_weights_only=False)\n",
        "# Callback for early stopping\n",
        "es_callback = tf.keras.callbacks.EarlyStopping(patience=20, verbose=1)"
      ]
    },
    {
      "cell_type": "code",
      "execution_count": 34,
      "metadata": {
        "id": "c3Dac0M_9hE2"
      },
      "outputs": [],
      "source": [
        "# Model compilation\n",
        "model.compile(\n",
        "    optimizer='adam',\n",
        "    loss='sparse_categorical_crossentropy',\n",
        "    metrics=['accuracy']\n",
        ")"
      ]
    },
    {
      "cell_type": "markdown",
      "metadata": {
        "id": "7XI0j1Iu9hE2"
      },
      "source": [
        "# Model training"
      ]
    },
    {
      "cell_type": "code",
      "execution_count": 35,
      "metadata": {
        "colab": {
          "base_uri": "https://localhost:8080/"
        },
        "id": "WirBl-JE9hE3",
        "outputId": "71b30ca2-8294-4d9d-8aa2-800d90d399de",
        "scrolled": true
      },
      "outputs": [
        {
          "name": "stdout",
          "output_type": "stream",
          "text": [
            "Epoch 1/1000\n",
            " 1/37 [..............................] - ETA: 6s - loss: 2.1566 - accuracy: 0.1094\n",
            "Epoch 1: saving model to model/keypoint_classifier/keypoint_classifier.hdf5\n",
            "37/37 [==============================] - 0s 3ms/step - loss: 2.0099 - accuracy: 0.2249 - val_loss: 1.8461 - val_accuracy: 0.3997\n",
            "Epoch 2/1000\n",
            " 1/37 [..............................] - ETA: 0s - loss: 1.9092 - accuracy: 0.3672\n",
            "Epoch 2: saving model to model/keypoint_classifier/keypoint_classifier.hdf5\n",
            "37/37 [==============================] - 0s 1ms/step - loss: 1.8251 - accuracy: 0.3485 - val_loss: 1.6736 - val_accuracy: 0.4133\n",
            "Epoch 3/1000\n",
            " 1/37 [..............................] - ETA: 0s - loss: 1.7294 - accuracy: 0.4062\n",
            "Epoch 3: saving model to model/keypoint_classifier/keypoint_classifier.hdf5\n",
            "37/37 [==============================] - 0s 1ms/step - loss: 1.6768 - accuracy: 0.3763 - val_loss: 1.5120 - val_accuracy: 0.4636\n",
            "Epoch 4/1000\n",
            " 1/37 [..............................] - ETA: 0s - loss: 1.5632 - accuracy: 0.4219\n",
            "Epoch 4: saving model to model/keypoint_classifier/keypoint_classifier.hdf5\n",
            "37/37 [==============================] - 0s 1ms/step - loss: 1.5348 - accuracy: 0.4066 - val_loss: 1.3646 - val_accuracy: 0.4810\n",
            "Epoch 5/1000\n",
            " 1/37 [..............................] - ETA: 0s - loss: 1.5035 - accuracy: 0.3750\n",
            "Epoch 5: saving model to model/keypoint_classifier/keypoint_classifier.hdf5\n",
            "37/37 [==============================] - 0s 1ms/step - loss: 1.4534 - accuracy: 0.4294 - val_loss: 1.2543 - val_accuracy: 0.5158\n",
            "Epoch 6/1000\n",
            " 1/37 [..............................] - ETA: 0s - loss: 1.4926 - accuracy: 0.4453"
          ]
        },
        {
          "name": "stderr",
          "output_type": "stream",
          "text": [
            "/Users/jolson/source/sandbox/mp-gesture-recognition/venv/lib/python3.9/site-packages/keras/src/engine/training.py:3000: UserWarning: You are saving your model as an HDF5 file via `model.save()`. This file format is considered legacy. We recommend using instead the native Keras format, e.g. `model.save('my_model.keras')`.\n",
            "  saving_api.save_model(\n"
          ]
        },
        {
          "name": "stdout",
          "output_type": "stream",
          "text": [
            "\n",
            "Epoch 6: saving model to model/keypoint_classifier/keypoint_classifier.hdf5\n",
            "37/37 [==============================] - 0s 1ms/step - loss: 1.3664 - accuracy: 0.4476 - val_loss: 1.1652 - val_accuracy: 0.5293\n",
            "Epoch 7/1000\n",
            " 1/37 [..............................] - ETA: 0s - loss: 1.3842 - accuracy: 0.4375\n",
            "Epoch 7: saving model to model/keypoint_classifier/keypoint_classifier.hdf5\n",
            "37/37 [==============================] - 0s 1ms/step - loss: 1.3282 - accuracy: 0.4728 - val_loss: 1.0961 - val_accuracy: 0.5828\n",
            "Epoch 8/1000\n",
            " 1/37 [..............................] - ETA: 0s - loss: 1.1592 - accuracy: 0.5625\n",
            "Epoch 8: saving model to model/keypoint_classifier/keypoint_classifier.hdf5\n",
            "37/37 [==============================] - 0s 1ms/step - loss: 1.2684 - accuracy: 0.4988 - val_loss: 1.0497 - val_accuracy: 0.6299\n",
            "Epoch 9/1000\n",
            " 1/37 [..............................] - ETA: 0s - loss: 1.1728 - accuracy: 0.5469\n",
            "Epoch 9: saving model to model/keypoint_classifier/keypoint_classifier.hdf5\n",
            "37/37 [==============================] - 0s 1ms/step - loss: 1.2180 - accuracy: 0.5240 - val_loss: 0.9964 - val_accuracy: 0.6576\n",
            "Epoch 10/1000\n",
            " 1/37 [..............................] - ETA: 0s - loss: 1.1778 - accuracy: 0.5547\n",
            "Epoch 10: saving model to model/keypoint_classifier/keypoint_classifier.hdf5\n",
            "37/37 [==============================] - 0s 1ms/step - loss: 1.2000 - accuracy: 0.5291 - val_loss: 0.9473 - val_accuracy: 0.6744\n",
            "Epoch 11/1000\n",
            " 1/37 [..............................] - ETA: 0s - loss: 1.0858 - accuracy: 0.5469\n",
            "Epoch 11: saving model to model/keypoint_classifier/keypoint_classifier.hdf5\n",
            "37/37 [==============================] - 0s 1ms/step - loss: 1.1586 - accuracy: 0.5457 - val_loss: 0.9154 - val_accuracy: 0.7234\n",
            "Epoch 12/1000\n",
            " 1/37 [..............................] - ETA: 0s - loss: 1.1692 - accuracy: 0.5234\n",
            "Epoch 12: saving model to model/keypoint_classifier/keypoint_classifier.hdf5\n",
            "37/37 [==============================] - 0s 1ms/step - loss: 1.1228 - accuracy: 0.5635 - val_loss: 0.8694 - val_accuracy: 0.7299\n",
            "Epoch 13/1000\n",
            " 1/37 [..............................] - ETA: 0s - loss: 1.0458 - accuracy: 0.5469\n",
            "Epoch 13: saving model to model/keypoint_classifier/keypoint_classifier.hdf5\n",
            "37/37 [==============================] - 0s 1ms/step - loss: 1.0953 - accuracy: 0.5665 - val_loss: 0.8378 - val_accuracy: 0.7427\n",
            "Epoch 14/1000\n",
            " 1/37 [..............................] - ETA: 0s - loss: 1.0900 - accuracy: 0.6016\n",
            "Epoch 14: saving model to model/keypoint_classifier/keypoint_classifier.hdf5\n",
            "37/37 [==============================] - 0s 1ms/step - loss: 1.0639 - accuracy: 0.5760 - val_loss: 0.8080 - val_accuracy: 0.7415\n",
            "Epoch 15/1000\n",
            " 1/37 [..............................] - ETA: 0s - loss: 1.0273 - accuracy: 0.6250\n",
            "Epoch 15: saving model to model/keypoint_classifier/keypoint_classifier.hdf5\n",
            "37/37 [==============================] - 0s 1ms/step - loss: 1.0526 - accuracy: 0.5926 - val_loss: 0.7806 - val_accuracy: 0.7556\n",
            "Epoch 16/1000\n",
            " 1/37 [..............................] - ETA: 0s - loss: 1.1083 - accuracy: 0.5391\n",
            "Epoch 16: saving model to model/keypoint_classifier/keypoint_classifier.hdf5\n",
            "37/37 [==============================] - 0s 1ms/step - loss: 1.0107 - accuracy: 0.6042 - val_loss: 0.7388 - val_accuracy: 0.7724\n",
            "Epoch 17/1000\n",
            " 1/37 [..............................] - ETA: 0s - loss: 1.0860 - accuracy: 0.5312\n",
            "Epoch 17: saving model to model/keypoint_classifier/keypoint_classifier.hdf5\n",
            "37/37 [==============================] - 0s 1ms/step - loss: 0.9988 - accuracy: 0.6117 - val_loss: 0.7133 - val_accuracy: 0.7795\n",
            "Epoch 18/1000\n",
            " 1/37 [..............................] - ETA: 0s - loss: 1.0959 - accuracy: 0.5156\n",
            "Epoch 18: saving model to model/keypoint_classifier/keypoint_classifier.hdf5\n",
            "37/37 [==============================] - 0s 1ms/step - loss: 0.9696 - accuracy: 0.6164 - val_loss: 0.6818 - val_accuracy: 0.7937\n",
            "Epoch 19/1000\n",
            " 1/37 [..............................] - ETA: 0s - loss: 1.0722 - accuracy: 0.5391\n",
            "Epoch 19: saving model to model/keypoint_classifier/keypoint_classifier.hdf5\n",
            "37/37 [==============================] - 0s 1ms/step - loss: 0.9558 - accuracy: 0.6267 - val_loss: 0.6563 - val_accuracy: 0.7969\n",
            "Epoch 20/1000\n",
            " 1/37 [..............................] - ETA: 0s - loss: 0.9811 - accuracy: 0.6328\n",
            "Epoch 20: saving model to model/keypoint_classifier/keypoint_classifier.hdf5\n",
            "37/37 [==============================] - 0s 1ms/step - loss: 0.9545 - accuracy: 0.6293 - val_loss: 0.6404 - val_accuracy: 0.8208\n",
            "Epoch 21/1000\n",
            " 1/37 [..............................] - ETA: 0s - loss: 0.8116 - accuracy: 0.7031\n",
            "Epoch 21: saving model to model/keypoint_classifier/keypoint_classifier.hdf5\n",
            "37/37 [==============================] - 0s 1ms/step - loss: 0.9378 - accuracy: 0.6358 - val_loss: 0.6244 - val_accuracy: 0.8066\n",
            "Epoch 22/1000\n",
            " 1/37 [..............................] - ETA: 0s - loss: 0.9538 - accuracy: 0.6250\n",
            "Epoch 22: saving model to model/keypoint_classifier/keypoint_classifier.hdf5\n",
            "37/37 [==============================] - 0s 1ms/step - loss: 0.9215 - accuracy: 0.6508 - val_loss: 0.6113 - val_accuracy: 0.8395\n",
            "Epoch 23/1000\n",
            " 1/37 [..............................] - ETA: 0s - loss: 0.9916 - accuracy: 0.6016\n",
            "Epoch 23: saving model to model/keypoint_classifier/keypoint_classifier.hdf5\n",
            "37/37 [==============================] - 0s 1ms/step - loss: 0.9192 - accuracy: 0.6448 - val_loss: 0.5876 - val_accuracy: 0.8330\n",
            "Epoch 24/1000\n",
            " 1/37 [..............................] - ETA: 0s - loss: 0.8756 - accuracy: 0.6719\n",
            "Epoch 24: saving model to model/keypoint_classifier/keypoint_classifier.hdf5\n",
            "37/37 [==============================] - 0s 1ms/step - loss: 0.9115 - accuracy: 0.6538 - val_loss: 0.5811 - val_accuracy: 0.8614\n",
            "Epoch 25/1000\n",
            " 1/37 [..............................] - ETA: 0s - loss: 0.8366 - accuracy: 0.7031\n",
            "Epoch 25: saving model to model/keypoint_classifier/keypoint_classifier.hdf5\n",
            "37/37 [==============================] - 0s 1ms/step - loss: 0.8935 - accuracy: 0.6547 - val_loss: 0.5614 - val_accuracy: 0.8543\n",
            "Epoch 26/1000\n",
            " 1/37 [..............................] - ETA: 0s - loss: 0.7872 - accuracy: 0.6484\n",
            "Epoch 26: saving model to model/keypoint_classifier/keypoint_classifier.hdf5\n",
            "37/37 [==============================] - 0s 1ms/step - loss: 0.8877 - accuracy: 0.6573 - val_loss: 0.5550 - val_accuracy: 0.8620\n",
            "Epoch 27/1000\n",
            " 1/37 [..............................] - ETA: 0s - loss: 1.0259 - accuracy: 0.6562\n",
            "Epoch 27: saving model to model/keypoint_classifier/keypoint_classifier.hdf5\n",
            "37/37 [==============================] - 0s 1ms/step - loss: 0.8712 - accuracy: 0.6652 - val_loss: 0.5347 - val_accuracy: 0.8801\n",
            "Epoch 28/1000\n",
            " 1/37 [..............................] - ETA: 0s - loss: 0.8667 - accuracy: 0.6719\n",
            "Epoch 28: saving model to model/keypoint_classifier/keypoint_classifier.hdf5\n",
            "37/37 [==============================] - 0s 1ms/step - loss: 0.8661 - accuracy: 0.6700 - val_loss: 0.5269 - val_accuracy: 0.8736\n",
            "Epoch 29/1000\n",
            " 1/37 [..............................] - ETA: 0s - loss: 0.8356 - accuracy: 0.6953\n",
            "Epoch 29: saving model to model/keypoint_classifier/keypoint_classifier.hdf5\n",
            "37/37 [==============================] - 0s 1ms/step - loss: 0.8535 - accuracy: 0.6792 - val_loss: 0.5185 - val_accuracy: 0.8633\n",
            "Epoch 30/1000\n",
            " 1/37 [..............................] - ETA: 0s - loss: 0.8951 - accuracy: 0.6562\n",
            "Epoch 30: saving model to model/keypoint_classifier/keypoint_classifier.hdf5\n",
            "37/37 [==============================] - 0s 1ms/step - loss: 0.8511 - accuracy: 0.6730 - val_loss: 0.5086 - val_accuracy: 0.8743\n",
            "Epoch 31/1000\n",
            " 1/37 [..............................] - ETA: 0s - loss: 0.7701 - accuracy: 0.7109\n",
            "Epoch 31: saving model to model/keypoint_classifier/keypoint_classifier.hdf5\n",
            "37/37 [==============================] - 0s 1ms/step - loss: 0.8427 - accuracy: 0.6730 - val_loss: 0.4954 - val_accuracy: 0.8801\n",
            "Epoch 32/1000\n",
            " 1/37 [..............................] - ETA: 0s - loss: 0.8271 - accuracy: 0.6641\n",
            "Epoch 32: saving model to model/keypoint_classifier/keypoint_classifier.hdf5\n",
            "37/37 [==============================] - 0s 1ms/step - loss: 0.8279 - accuracy: 0.6777 - val_loss: 0.4867 - val_accuracy: 0.8698\n",
            "Epoch 33/1000\n",
            " 1/37 [..............................] - ETA: 0s - loss: 0.9334 - accuracy: 0.6641\n",
            "Epoch 33: saving model to model/keypoint_classifier/keypoint_classifier.hdf5\n",
            "37/37 [==============================] - 0s 1ms/step - loss: 0.8265 - accuracy: 0.6880 - val_loss: 0.4722 - val_accuracy: 0.8859\n",
            "Epoch 34/1000\n",
            " 1/37 [..............................] - ETA: 0s - loss: 0.9976 - accuracy: 0.6172\n",
            "Epoch 34: saving model to model/keypoint_classifier/keypoint_classifier.hdf5\n",
            "37/37 [==============================] - 0s 1ms/step - loss: 0.8171 - accuracy: 0.6885 - val_loss: 0.4660 - val_accuracy: 0.8833\n",
            "Epoch 35/1000\n",
            " 1/37 [..............................] - ETA: 0s - loss: 0.9259 - accuracy: 0.6094\n",
            "Epoch 35: saving model to model/keypoint_classifier/keypoint_classifier.hdf5\n",
            "37/37 [==============================] - 0s 1ms/step - loss: 0.8181 - accuracy: 0.6863 - val_loss: 0.4611 - val_accuracy: 0.8852\n",
            "Epoch 36/1000\n",
            " 1/37 [..............................] - ETA: 0s - loss: 0.7894 - accuracy: 0.7109\n",
            "Epoch 36: saving model to model/keypoint_classifier/keypoint_classifier.hdf5\n",
            "37/37 [==============================] - 0s 1ms/step - loss: 0.7948 - accuracy: 0.6955 - val_loss: 0.4544 - val_accuracy: 0.8872\n",
            "Epoch 37/1000\n",
            " 1/37 [..............................] - ETA: 0s - loss: 0.7754 - accuracy: 0.7422\n",
            "Epoch 37: saving model to model/keypoint_classifier/keypoint_classifier.hdf5\n",
            "37/37 [==============================] - 0s 1ms/step - loss: 0.8063 - accuracy: 0.6958 - val_loss: 0.4449 - val_accuracy: 0.8910\n",
            "Epoch 38/1000\n",
            " 1/37 [..............................] - ETA: 0s - loss: 0.7129 - accuracy: 0.7422\n",
            "Epoch 38: saving model to model/keypoint_classifier/keypoint_classifier.hdf5\n",
            "37/37 [==============================] - 0s 1ms/step - loss: 0.7752 - accuracy: 0.7057 - val_loss: 0.4348 - val_accuracy: 0.8981\n",
            "Epoch 39/1000\n",
            " 1/37 [..............................] - ETA: 0s - loss: 0.7221 - accuracy: 0.7891\n",
            "Epoch 39: saving model to model/keypoint_classifier/keypoint_classifier.hdf5\n",
            "37/37 [==============================] - 0s 1ms/step - loss: 0.7908 - accuracy: 0.7003 - val_loss: 0.4307 - val_accuracy: 0.9026\n",
            "Epoch 40/1000\n",
            " 1/37 [..............................] - ETA: 0s - loss: 0.7211 - accuracy: 0.7422\n",
            "Epoch 40: saving model to model/keypoint_classifier/keypoint_classifier.hdf5\n",
            "37/37 [==============================] - 0s 1ms/step - loss: 0.7782 - accuracy: 0.7031 - val_loss: 0.4166 - val_accuracy: 0.9014\n",
            "Epoch 41/1000\n",
            " 1/37 [..............................] - ETA: 0s - loss: 0.7876 - accuracy: 0.6797\n",
            "Epoch 41: saving model to model/keypoint_classifier/keypoint_classifier.hdf5\n",
            "37/37 [==============================] - 0s 1ms/step - loss: 0.7743 - accuracy: 0.7089 - val_loss: 0.4146 - val_accuracy: 0.9001\n",
            "Epoch 42/1000\n",
            " 1/37 [..............................] - ETA: 0s - loss: 0.8972 - accuracy: 0.6328\n",
            "Epoch 42: saving model to model/keypoint_classifier/keypoint_classifier.hdf5\n",
            "37/37 [==============================] - 0s 1ms/step - loss: 0.7772 - accuracy: 0.7046 - val_loss: 0.4107 - val_accuracy: 0.9072\n",
            "Epoch 43/1000\n",
            " 1/37 [..............................] - ETA: 0s - loss: 0.7523 - accuracy: 0.7266\n",
            "Epoch 43: saving model to model/keypoint_classifier/keypoint_classifier.hdf5\n",
            "37/37 [==============================] - 0s 1ms/step - loss: 0.7504 - accuracy: 0.7222 - val_loss: 0.4072 - val_accuracy: 0.9052\n",
            "Epoch 44/1000\n",
            " 1/37 [..............................] - ETA: 0s - loss: 0.6531 - accuracy: 0.7500\n",
            "Epoch 44: saving model to model/keypoint_classifier/keypoint_classifier.hdf5\n",
            "37/37 [==============================] - 0s 1ms/step - loss: 0.7620 - accuracy: 0.7145 - val_loss: 0.3947 - val_accuracy: 0.9033\n",
            "Epoch 45/1000\n",
            " 1/37 [..............................] - ETA: 0s - loss: 0.7982 - accuracy: 0.6953\n",
            "Epoch 45: saving model to model/keypoint_classifier/keypoint_classifier.hdf5\n",
            "37/37 [==============================] - 0s 1ms/step - loss: 0.7460 - accuracy: 0.7233 - val_loss: 0.3883 - val_accuracy: 0.9078\n",
            "Epoch 46/1000\n",
            " 1/37 [..............................] - ETA: 0s - loss: 0.8044 - accuracy: 0.6797\n",
            "Epoch 46: saving model to model/keypoint_classifier/keypoint_classifier.hdf5\n",
            "37/37 [==============================] - 0s 1ms/step - loss: 0.7545 - accuracy: 0.7177 - val_loss: 0.3869 - val_accuracy: 0.9039\n",
            "Epoch 47/1000\n",
            " 1/37 [..............................] - ETA: 0s - loss: 0.7794 - accuracy: 0.7109\n",
            "Epoch 47: saving model to model/keypoint_classifier/keypoint_classifier.hdf5\n",
            "37/37 [==============================] - 0s 1ms/step - loss: 0.7576 - accuracy: 0.7080 - val_loss: 0.3870 - val_accuracy: 0.9065\n",
            "Epoch 48/1000\n",
            " 1/37 [..............................] - ETA: 0s - loss: 0.6755 - accuracy: 0.7500\n",
            "Epoch 48: saving model to model/keypoint_classifier/keypoint_classifier.hdf5\n",
            "37/37 [==============================] - 0s 1ms/step - loss: 0.7338 - accuracy: 0.7211 - val_loss: 0.3843 - val_accuracy: 0.9078\n",
            "Epoch 49/1000\n",
            " 1/37 [..............................] - ETA: 0s - loss: 0.6390 - accuracy: 0.7734\n",
            "Epoch 49: saving model to model/keypoint_classifier/keypoint_classifier.hdf5\n",
            "37/37 [==============================] - 0s 1ms/step - loss: 0.7506 - accuracy: 0.7248 - val_loss: 0.3697 - val_accuracy: 0.9155\n",
            "Epoch 50/1000\n",
            " 1/37 [..............................] - ETA: 0s - loss: 0.7879 - accuracy: 0.6406\n",
            "Epoch 50: saving model to model/keypoint_classifier/keypoint_classifier.hdf5\n",
            "37/37 [==============================] - 0s 1ms/step - loss: 0.7531 - accuracy: 0.7143 - val_loss: 0.3712 - val_accuracy: 0.9130\n",
            "Epoch 51/1000\n",
            " 1/37 [..............................] - ETA: 0s - loss: 0.6596 - accuracy: 0.7891\n",
            "Epoch 51: saving model to model/keypoint_classifier/keypoint_classifier.hdf5\n",
            "37/37 [==============================] - 0s 1ms/step - loss: 0.7440 - accuracy: 0.7190 - val_loss: 0.3709 - val_accuracy: 0.9149\n",
            "Epoch 52/1000\n",
            " 1/37 [..............................] - ETA: 0s - loss: 0.6304 - accuracy: 0.7578\n",
            "Epoch 52: saving model to model/keypoint_classifier/keypoint_classifier.hdf5\n",
            "37/37 [==============================] - 0s 1ms/step - loss: 0.7247 - accuracy: 0.7274 - val_loss: 0.3639 - val_accuracy: 0.9104\n",
            "Epoch 53/1000\n",
            " 1/37 [..............................] - ETA: 0s - loss: 0.6384 - accuracy: 0.7266\n",
            "Epoch 53: saving model to model/keypoint_classifier/keypoint_classifier.hdf5\n",
            "37/37 [==============================] - 0s 1ms/step - loss: 0.7197 - accuracy: 0.7360 - val_loss: 0.3594 - val_accuracy: 0.9130\n",
            "Epoch 54/1000\n",
            " 1/37 [..............................] - ETA: 0s - loss: 0.6915 - accuracy: 0.7578\n",
            "Epoch 54: saving model to model/keypoint_classifier/keypoint_classifier.hdf5\n",
            "37/37 [==============================] - 0s 1ms/step - loss: 0.7165 - accuracy: 0.7355 - val_loss: 0.3608 - val_accuracy: 0.9155\n",
            "Epoch 55/1000\n",
            " 1/37 [..............................] - ETA: 0s - loss: 0.6259 - accuracy: 0.7734\n",
            "Epoch 55: saving model to model/keypoint_classifier/keypoint_classifier.hdf5\n",
            "37/37 [==============================] - 0s 1ms/step - loss: 0.7078 - accuracy: 0.7343 - val_loss: 0.3586 - val_accuracy: 0.9091\n",
            "Epoch 56/1000\n",
            " 1/37 [..............................] - ETA: 0s - loss: 0.7410 - accuracy: 0.6797\n",
            "Epoch 56: saving model to model/keypoint_classifier/keypoint_classifier.hdf5\n",
            "37/37 [==============================] - 0s 1ms/step - loss: 0.7108 - accuracy: 0.7295 - val_loss: 0.3498 - val_accuracy: 0.9194\n",
            "Epoch 57/1000\n",
            " 1/37 [..............................] - ETA: 0s - loss: 0.7218 - accuracy: 0.7422\n",
            "Epoch 57: saving model to model/keypoint_classifier/keypoint_classifier.hdf5\n",
            "37/37 [==============================] - 0s 1ms/step - loss: 0.6913 - accuracy: 0.7390 - val_loss: 0.3525 - val_accuracy: 0.9142\n",
            "Epoch 58/1000\n",
            " 1/37 [..............................] - ETA: 0s - loss: 0.5403 - accuracy: 0.8281\n",
            "Epoch 58: saving model to model/keypoint_classifier/keypoint_classifier.hdf5\n",
            "37/37 [==============================] - 0s 1ms/step - loss: 0.7025 - accuracy: 0.7424 - val_loss: 0.3375 - val_accuracy: 0.9188\n",
            "Epoch 59/1000\n",
            " 1/37 [..............................] - ETA: 0s - loss: 0.6728 - accuracy: 0.7734\n",
            "Epoch 59: saving model to model/keypoint_classifier/keypoint_classifier.hdf5\n",
            "37/37 [==============================] - 0s 1ms/step - loss: 0.7109 - accuracy: 0.7353 - val_loss: 0.3378 - val_accuracy: 0.9181\n",
            "Epoch 60/1000\n",
            " 1/37 [..............................] - ETA: 0s - loss: 0.7828 - accuracy: 0.7031\n",
            "Epoch 60: saving model to model/keypoint_classifier/keypoint_classifier.hdf5\n",
            "37/37 [==============================] - 0s 1ms/step - loss: 0.7041 - accuracy: 0.7323 - val_loss: 0.3358 - val_accuracy: 0.9213\n",
            "Epoch 61/1000\n",
            " 1/37 [..............................] - ETA: 0s - loss: 0.6552 - accuracy: 0.7422\n",
            "Epoch 61: saving model to model/keypoint_classifier/keypoint_classifier.hdf5\n",
            "37/37 [==============================] - 0s 1ms/step - loss: 0.7133 - accuracy: 0.7351 - val_loss: 0.3357 - val_accuracy: 0.9097\n",
            "Epoch 62/1000\n",
            " 1/37 [..............................] - ETA: 0s - loss: 0.7578 - accuracy: 0.7188\n",
            "Epoch 62: saving model to model/keypoint_classifier/keypoint_classifier.hdf5\n",
            "37/37 [==============================] - 0s 1ms/step - loss: 0.7089 - accuracy: 0.7403 - val_loss: 0.3346 - val_accuracy: 0.9233\n",
            "Epoch 63/1000\n",
            " 1/37 [..............................] - ETA: 0s - loss: 0.7338 - accuracy: 0.7266\n",
            "Epoch 63: saving model to model/keypoint_classifier/keypoint_classifier.hdf5\n",
            "37/37 [==============================] - 0s 1ms/step - loss: 0.6878 - accuracy: 0.7487 - val_loss: 0.3332 - val_accuracy: 0.9149\n",
            "Epoch 64/1000\n",
            " 1/37 [..............................] - ETA: 0s - loss: 0.8007 - accuracy: 0.6953\n",
            "Epoch 64: saving model to model/keypoint_classifier/keypoint_classifier.hdf5\n",
            "37/37 [==============================] - 0s 2ms/step - loss: 0.6875 - accuracy: 0.7401 - val_loss: 0.3250 - val_accuracy: 0.9213\n",
            "Epoch 65/1000\n",
            " 1/37 [..............................] - ETA: 0s - loss: 0.7924 - accuracy: 0.7109\n",
            "Epoch 65: saving model to model/keypoint_classifier/keypoint_classifier.hdf5\n",
            "37/37 [==============================] - 0s 1ms/step - loss: 0.6884 - accuracy: 0.7504 - val_loss: 0.3222 - val_accuracy: 0.9188\n",
            "Epoch 66/1000\n",
            " 1/37 [..............................] - ETA: 0s - loss: 0.7692 - accuracy: 0.7188\n",
            "Epoch 66: saving model to model/keypoint_classifier/keypoint_classifier.hdf5\n",
            "37/37 [==============================] - 0s 1ms/step - loss: 0.6833 - accuracy: 0.7502 - val_loss: 0.3194 - val_accuracy: 0.9162\n",
            "Epoch 67/1000\n",
            " 1/37 [..............................] - ETA: 0s - loss: 0.6575 - accuracy: 0.7578\n",
            "Epoch 67: saving model to model/keypoint_classifier/keypoint_classifier.hdf5\n",
            "37/37 [==============================] - 0s 1ms/step - loss: 0.6829 - accuracy: 0.7424 - val_loss: 0.3283 - val_accuracy: 0.9123\n",
            "Epoch 68/1000\n",
            " 1/37 [..............................] - ETA: 0s - loss: 0.6919 - accuracy: 0.7578\n",
            "Epoch 68: saving model to model/keypoint_classifier/keypoint_classifier.hdf5\n",
            "37/37 [==============================] - 0s 1ms/step - loss: 0.7031 - accuracy: 0.7422 - val_loss: 0.3209 - val_accuracy: 0.9201\n",
            "Epoch 69/1000\n",
            " 1/37 [..............................] - ETA: 0s - loss: 0.6915 - accuracy: 0.7656\n",
            "Epoch 69: saving model to model/keypoint_classifier/keypoint_classifier.hdf5\n",
            "37/37 [==============================] - 0s 1ms/step - loss: 0.6821 - accuracy: 0.7435 - val_loss: 0.3211 - val_accuracy: 0.9201\n",
            "Epoch 70/1000\n",
            " 1/37 [..............................] - ETA: 0s - loss: 0.8316 - accuracy: 0.6875\n",
            "Epoch 70: saving model to model/keypoint_classifier/keypoint_classifier.hdf5\n",
            "37/37 [==============================] - 0s 1ms/step - loss: 0.6789 - accuracy: 0.7527 - val_loss: 0.3156 - val_accuracy: 0.9194\n",
            "Epoch 71/1000\n",
            " 1/37 [..............................] - ETA: 0s - loss: 0.6331 - accuracy: 0.7656\n",
            "Epoch 71: saving model to model/keypoint_classifier/keypoint_classifier.hdf5\n",
            "37/37 [==============================] - 0s 1ms/step - loss: 0.6824 - accuracy: 0.7454 - val_loss: 0.3180 - val_accuracy: 0.9259\n",
            "Epoch 72/1000\n",
            " 1/37 [..............................] - ETA: 0s - loss: 0.7041 - accuracy: 0.7734\n",
            "Epoch 72: saving model to model/keypoint_classifier/keypoint_classifier.hdf5\n",
            "37/37 [==============================] - 0s 1ms/step - loss: 0.6788 - accuracy: 0.7530 - val_loss: 0.3193 - val_accuracy: 0.9194\n",
            "Epoch 73/1000\n",
            " 1/37 [..............................] - ETA: 0s - loss: 0.7940 - accuracy: 0.7109\n",
            "Epoch 73: saving model to model/keypoint_classifier/keypoint_classifier.hdf5\n",
            "37/37 [==============================] - 0s 1ms/step - loss: 0.6894 - accuracy: 0.7398 - val_loss: 0.3124 - val_accuracy: 0.9136\n",
            "Epoch 74/1000\n",
            " 1/37 [..............................] - ETA: 0s - loss: 0.6610 - accuracy: 0.7812\n",
            "Epoch 74: saving model to model/keypoint_classifier/keypoint_classifier.hdf5\n",
            "37/37 [==============================] - 0s 1ms/step - loss: 0.6786 - accuracy: 0.7547 - val_loss: 0.3139 - val_accuracy: 0.9181\n",
            "Epoch 75/1000\n",
            " 1/37 [..............................] - ETA: 0s - loss: 0.5915 - accuracy: 0.7812\n",
            "Epoch 75: saving model to model/keypoint_classifier/keypoint_classifier.hdf5\n",
            "37/37 [==============================] - 0s 1ms/step - loss: 0.6719 - accuracy: 0.7472 - val_loss: 0.3072 - val_accuracy: 0.9220\n",
            "Epoch 76/1000\n",
            " 1/37 [..............................] - ETA: 0s - loss: 0.7117 - accuracy: 0.7500\n",
            "Epoch 76: saving model to model/keypoint_classifier/keypoint_classifier.hdf5\n",
            "37/37 [==============================] - 0s 1ms/step - loss: 0.6890 - accuracy: 0.7452 - val_loss: 0.3175 - val_accuracy: 0.9181\n",
            "Epoch 77/1000\n",
            " 1/37 [..............................] - ETA: 0s - loss: 0.7309 - accuracy: 0.6953\n",
            "Epoch 77: saving model to model/keypoint_classifier/keypoint_classifier.hdf5\n",
            "37/37 [==============================] - 0s 1ms/step - loss: 0.6612 - accuracy: 0.7476 - val_loss: 0.3096 - val_accuracy: 0.9213\n",
            "Epoch 78/1000\n",
            " 1/37 [..............................] - ETA: 0s - loss: 0.8475 - accuracy: 0.6641\n",
            "Epoch 78: saving model to model/keypoint_classifier/keypoint_classifier.hdf5\n",
            "37/37 [==============================] - 0s 1ms/step - loss: 0.6639 - accuracy: 0.7532 - val_loss: 0.3027 - val_accuracy: 0.9207\n",
            "Epoch 79/1000\n",
            " 1/37 [..............................] - ETA: 0s - loss: 0.6653 - accuracy: 0.7500\n",
            "Epoch 79: saving model to model/keypoint_classifier/keypoint_classifier.hdf5\n",
            "37/37 [==============================] - 0s 1ms/step - loss: 0.6429 - accuracy: 0.7667 - val_loss: 0.2983 - val_accuracy: 0.9207\n",
            "Epoch 80/1000\n",
            " 1/37 [..............................] - ETA: 0s - loss: 0.5563 - accuracy: 0.8125\n",
            "Epoch 80: saving model to model/keypoint_classifier/keypoint_classifier.hdf5\n",
            "37/37 [==============================] - 0s 1ms/step - loss: 0.6801 - accuracy: 0.7467 - val_loss: 0.3039 - val_accuracy: 0.9233\n",
            "Epoch 81/1000\n",
            " 1/37 [..............................] - ETA: 0s - loss: 0.5581 - accuracy: 0.7500\n",
            "Epoch 81: saving model to model/keypoint_classifier/keypoint_classifier.hdf5\n",
            "37/37 [==============================] - 0s 1ms/step - loss: 0.6486 - accuracy: 0.7538 - val_loss: 0.2996 - val_accuracy: 0.9329\n",
            "Epoch 82/1000\n",
            " 1/37 [..............................] - ETA: 0s - loss: 0.6886 - accuracy: 0.7266\n",
            "Epoch 82: saving model to model/keypoint_classifier/keypoint_classifier.hdf5\n",
            "37/37 [==============================] - 0s 1ms/step - loss: 0.6727 - accuracy: 0.7540 - val_loss: 0.2997 - val_accuracy: 0.9226\n",
            "Epoch 83/1000\n",
            " 1/37 [..............................] - ETA: 0s - loss: 0.7103 - accuracy: 0.7188\n",
            "Epoch 83: saving model to model/keypoint_classifier/keypoint_classifier.hdf5\n",
            "37/37 [==============================] - 0s 1ms/step - loss: 0.6655 - accuracy: 0.7506 - val_loss: 0.2998 - val_accuracy: 0.9233\n",
            "Epoch 84/1000\n",
            " 1/37 [..............................] - ETA: 0s - loss: 0.6492 - accuracy: 0.7578\n",
            "Epoch 84: saving model to model/keypoint_classifier/keypoint_classifier.hdf5\n",
            "37/37 [==============================] - 0s 1ms/step - loss: 0.6298 - accuracy: 0.7714 - val_loss: 0.2920 - val_accuracy: 0.9207\n",
            "Epoch 85/1000\n",
            " 1/37 [..............................] - ETA: 0s - loss: 0.6537 - accuracy: 0.7500\n",
            "Epoch 85: saving model to model/keypoint_classifier/keypoint_classifier.hdf5\n",
            "37/37 [==============================] - 0s 1ms/step - loss: 0.6736 - accuracy: 0.7495 - val_loss: 0.2920 - val_accuracy: 0.9304\n",
            "Epoch 86/1000\n",
            " 1/37 [..............................] - ETA: 0s - loss: 0.5500 - accuracy: 0.8203\n",
            "Epoch 86: saving model to model/keypoint_classifier/keypoint_classifier.hdf5\n",
            "37/37 [==============================] - 0s 1ms/step - loss: 0.6502 - accuracy: 0.7469 - val_loss: 0.2981 - val_accuracy: 0.9201\n",
            "Epoch 87/1000\n",
            " 1/37 [..............................] - ETA: 0s - loss: 0.6381 - accuracy: 0.7578\n",
            "Epoch 87: saving model to model/keypoint_classifier/keypoint_classifier.hdf5\n",
            "37/37 [==============================] - 0s 1ms/step - loss: 0.6659 - accuracy: 0.7527 - val_loss: 0.2994 - val_accuracy: 0.9188\n",
            "Epoch 88/1000\n",
            " 1/37 [..............................] - ETA: 0s - loss: 0.6256 - accuracy: 0.7812\n",
            "Epoch 88: saving model to model/keypoint_classifier/keypoint_classifier.hdf5\n",
            "37/37 [==============================] - 0s 1ms/step - loss: 0.6440 - accuracy: 0.7671 - val_loss: 0.2875 - val_accuracy: 0.9310\n",
            "Epoch 89/1000\n",
            " 1/37 [..............................] - ETA: 0s - loss: 0.6409 - accuracy: 0.7812\n",
            "Epoch 89: saving model to model/keypoint_classifier/keypoint_classifier.hdf5\n",
            "37/37 [==============================] - 0s 1ms/step - loss: 0.6748 - accuracy: 0.7424 - val_loss: 0.2961 - val_accuracy: 0.9265\n",
            "Epoch 90/1000\n",
            " 1/37 [..............................] - ETA: 0s - loss: 0.6587 - accuracy: 0.7891\n",
            "Epoch 90: saving model to model/keypoint_classifier/keypoint_classifier.hdf5\n",
            "37/37 [==============================] - 0s 1ms/step - loss: 0.6447 - accuracy: 0.7648 - val_loss: 0.2886 - val_accuracy: 0.9278\n",
            "Epoch 91/1000\n",
            " 1/37 [..............................] - ETA: 0s - loss: 0.6687 - accuracy: 0.7500\n",
            "Epoch 91: saving model to model/keypoint_classifier/keypoint_classifier.hdf5\n",
            "37/37 [==============================] - 0s 1ms/step - loss: 0.6597 - accuracy: 0.7594 - val_loss: 0.2910 - val_accuracy: 0.9239\n",
            "Epoch 92/1000\n",
            " 1/37 [..............................] - ETA: 0s - loss: 0.6590 - accuracy: 0.7734\n",
            "Epoch 92: saving model to model/keypoint_classifier/keypoint_classifier.hdf5\n",
            "37/37 [==============================] - 0s 1ms/step - loss: 0.6618 - accuracy: 0.7573 - val_loss: 0.2923 - val_accuracy: 0.9207\n",
            "Epoch 93/1000\n",
            " 1/37 [..............................] - ETA: 0s - loss: 0.6336 - accuracy: 0.7891\n",
            "Epoch 93: saving model to model/keypoint_classifier/keypoint_classifier.hdf5\n",
            "37/37 [==============================] - 0s 1ms/step - loss: 0.6494 - accuracy: 0.7613 - val_loss: 0.2951 - val_accuracy: 0.9259\n",
            "Epoch 94/1000\n",
            " 1/37 [..............................] - ETA: 0s - loss: 0.7240 - accuracy: 0.7500\n",
            "Epoch 94: saving model to model/keypoint_classifier/keypoint_classifier.hdf5\n",
            "37/37 [==============================] - 0s 1ms/step - loss: 0.6470 - accuracy: 0.7663 - val_loss: 0.2940 - val_accuracy: 0.9310\n",
            "Epoch 95/1000\n",
            " 1/37 [..............................] - ETA: 0s - loss: 0.5696 - accuracy: 0.7500\n",
            "Epoch 95: saving model to model/keypoint_classifier/keypoint_classifier.hdf5\n",
            "37/37 [==============================] - 0s 1ms/step - loss: 0.6339 - accuracy: 0.7622 - val_loss: 0.2829 - val_accuracy: 0.9233\n",
            "Epoch 96/1000\n",
            " 1/37 [..............................] - ETA: 0s - loss: 0.6242 - accuracy: 0.7578\n",
            "Epoch 96: saving model to model/keypoint_classifier/keypoint_classifier.hdf5\n",
            "37/37 [==============================] - 0s 1ms/step - loss: 0.6285 - accuracy: 0.7656 - val_loss: 0.2836 - val_accuracy: 0.9259\n",
            "Epoch 97/1000\n",
            " 1/37 [..............................] - ETA: 0s - loss: 0.8424 - accuracy: 0.6719\n",
            "Epoch 97: saving model to model/keypoint_classifier/keypoint_classifier.hdf5\n",
            "37/37 [==============================] - 0s 1ms/step - loss: 0.6536 - accuracy: 0.7562 - val_loss: 0.2855 - val_accuracy: 0.9246\n",
            "Epoch 98/1000\n",
            " 1/37 [..............................] - ETA: 0s - loss: 0.6061 - accuracy: 0.7891\n",
            "Epoch 98: saving model to model/keypoint_classifier/keypoint_classifier.hdf5\n",
            "37/37 [==============================] - 0s 1ms/step - loss: 0.6321 - accuracy: 0.7650 - val_loss: 0.2790 - val_accuracy: 0.9329\n",
            "Epoch 99/1000\n",
            " 1/37 [..............................] - ETA: 0s - loss: 0.7495 - accuracy: 0.7188\n",
            "Epoch 99: saving model to model/keypoint_classifier/keypoint_classifier.hdf5\n",
            "37/37 [==============================] - 0s 1ms/step - loss: 0.6268 - accuracy: 0.7665 - val_loss: 0.2803 - val_accuracy: 0.9291\n",
            "Epoch 100/1000\n",
            " 1/37 [..............................] - ETA: 0s - loss: 0.6165 - accuracy: 0.7266\n",
            "Epoch 100: saving model to model/keypoint_classifier/keypoint_classifier.hdf5\n",
            "37/37 [==============================] - 0s 1ms/step - loss: 0.6280 - accuracy: 0.7687 - val_loss: 0.2818 - val_accuracy: 0.9239\n",
            "Epoch 101/1000\n",
            " 1/37 [..............................] - ETA: 0s - loss: 0.6742 - accuracy: 0.7266\n",
            "Epoch 101: saving model to model/keypoint_classifier/keypoint_classifier.hdf5\n",
            "37/37 [==============================] - 0s 1ms/step - loss: 0.6428 - accuracy: 0.7676 - val_loss: 0.2820 - val_accuracy: 0.9323\n",
            "Epoch 102/1000\n",
            " 1/37 [..............................] - ETA: 0s - loss: 0.7116 - accuracy: 0.7578\n",
            "Epoch 102: saving model to model/keypoint_classifier/keypoint_classifier.hdf5\n",
            "37/37 [==============================] - 0s 1ms/step - loss: 0.6487 - accuracy: 0.7633 - val_loss: 0.2860 - val_accuracy: 0.9271\n",
            "Epoch 103/1000\n",
            " 1/37 [..............................] - ETA: 0s - loss: 0.5081 - accuracy: 0.8047\n",
            "Epoch 103: saving model to model/keypoint_classifier/keypoint_classifier.hdf5\n",
            "37/37 [==============================] - 0s 1ms/step - loss: 0.6287 - accuracy: 0.7661 - val_loss: 0.2838 - val_accuracy: 0.9259\n",
            "Epoch 104/1000\n",
            " 1/37 [..............................] - ETA: 0s - loss: 0.7050 - accuracy: 0.7812\n",
            "Epoch 104: saving model to model/keypoint_classifier/keypoint_classifier.hdf5\n",
            "37/37 [==============================] - 0s 1ms/step - loss: 0.6406 - accuracy: 0.7661 - val_loss: 0.2770 - val_accuracy: 0.9284\n",
            "Epoch 105/1000\n",
            " 1/37 [..............................] - ETA: 0s - loss: 0.5811 - accuracy: 0.7891\n",
            "Epoch 105: saving model to model/keypoint_classifier/keypoint_classifier.hdf5\n",
            "37/37 [==============================] - 0s 1ms/step - loss: 0.6189 - accuracy: 0.7732 - val_loss: 0.2788 - val_accuracy: 0.9265\n",
            "Epoch 106/1000\n",
            " 1/37 [..............................] - ETA: 0s - loss: 0.5983 - accuracy: 0.7812\n",
            "Epoch 106: saving model to model/keypoint_classifier/keypoint_classifier.hdf5\n",
            "37/37 [==============================] - 0s 1ms/step - loss: 0.6296 - accuracy: 0.7665 - val_loss: 0.2799 - val_accuracy: 0.9317\n",
            "Epoch 107/1000\n",
            " 1/37 [..............................] - ETA: 0s - loss: 0.5936 - accuracy: 0.7969\n",
            "Epoch 107: saving model to model/keypoint_classifier/keypoint_classifier.hdf5\n",
            "37/37 [==============================] - 0s 1ms/step - loss: 0.6174 - accuracy: 0.7738 - val_loss: 0.2688 - val_accuracy: 0.9342\n",
            "Epoch 108/1000\n",
            " 1/37 [..............................] - ETA: 0s - loss: 0.7740 - accuracy: 0.7500\n",
            "Epoch 108: saving model to model/keypoint_classifier/keypoint_classifier.hdf5\n",
            "37/37 [==============================] - 0s 1ms/step - loss: 0.6320 - accuracy: 0.7654 - val_loss: 0.2813 - val_accuracy: 0.9271\n",
            "Epoch 109/1000\n",
            " 1/37 [..............................] - ETA: 0s - loss: 0.4820 - accuracy: 0.8203\n",
            "Epoch 109: saving model to model/keypoint_classifier/keypoint_classifier.hdf5\n",
            "37/37 [==============================] - 0s 1ms/step - loss: 0.6353 - accuracy: 0.7603 - val_loss: 0.2715 - val_accuracy: 0.9323\n",
            "Epoch 110/1000\n",
            " 1/37 [..............................] - ETA: 0s - loss: 0.6026 - accuracy: 0.7734\n",
            "Epoch 110: saving model to model/keypoint_classifier/keypoint_classifier.hdf5\n",
            "37/37 [==============================] - 0s 1ms/step - loss: 0.6327 - accuracy: 0.7656 - val_loss: 0.2873 - val_accuracy: 0.9233\n",
            "Epoch 111/1000\n",
            " 1/37 [..............................] - ETA: 0s - loss: 0.5958 - accuracy: 0.8125\n",
            "Epoch 111: saving model to model/keypoint_classifier/keypoint_classifier.hdf5\n",
            "37/37 [==============================] - 0s 1ms/step - loss: 0.6386 - accuracy: 0.7633 - val_loss: 0.2733 - val_accuracy: 0.9284\n",
            "Epoch 112/1000\n",
            " 1/37 [..............................] - ETA: 0s - loss: 0.7237 - accuracy: 0.7812\n",
            "Epoch 112: saving model to model/keypoint_classifier/keypoint_classifier.hdf5\n",
            "37/37 [==============================] - 0s 1ms/step - loss: 0.6176 - accuracy: 0.7794 - val_loss: 0.2756 - val_accuracy: 0.9278\n",
            "Epoch 113/1000\n",
            " 1/37 [..............................] - ETA: 0s - loss: 0.6648 - accuracy: 0.7969\n",
            "Epoch 113: saving model to model/keypoint_classifier/keypoint_classifier.hdf5\n",
            "37/37 [==============================] - 0s 1ms/step - loss: 0.5942 - accuracy: 0.7770 - val_loss: 0.2623 - val_accuracy: 0.9387\n",
            "Epoch 114/1000\n",
            " 1/37 [..............................] - ETA: 0s - loss: 0.5919 - accuracy: 0.8281\n",
            "Epoch 114: saving model to model/keypoint_classifier/keypoint_classifier.hdf5\n",
            "37/37 [==============================] - 0s 1ms/step - loss: 0.6535 - accuracy: 0.7523 - val_loss: 0.2831 - val_accuracy: 0.9284\n",
            "Epoch 115/1000\n",
            " 1/37 [..............................] - ETA: 0s - loss: 0.5231 - accuracy: 0.8203\n",
            "Epoch 115: saving model to model/keypoint_classifier/keypoint_classifier.hdf5\n",
            "37/37 [==============================] - 0s 1ms/step - loss: 0.6224 - accuracy: 0.7656 - val_loss: 0.2718 - val_accuracy: 0.9265\n",
            "Epoch 116/1000\n",
            " 1/37 [..............................] - ETA: 0s - loss: 0.6655 - accuracy: 0.7891\n",
            "Epoch 116: saving model to model/keypoint_classifier/keypoint_classifier.hdf5\n",
            "37/37 [==============================] - 0s 1ms/step - loss: 0.6513 - accuracy: 0.7635 - val_loss: 0.2773 - val_accuracy: 0.9336\n",
            "Epoch 117/1000\n",
            " 1/37 [..............................] - ETA: 0s - loss: 0.5209 - accuracy: 0.8125\n",
            "Epoch 117: saving model to model/keypoint_classifier/keypoint_classifier.hdf5\n",
            "37/37 [==============================] - 0s 1ms/step - loss: 0.6225 - accuracy: 0.7704 - val_loss: 0.2728 - val_accuracy: 0.9310\n",
            "Epoch 118/1000\n",
            " 1/37 [..............................] - ETA: 0s - loss: 0.5695 - accuracy: 0.8203\n",
            "Epoch 118: saving model to model/keypoint_classifier/keypoint_classifier.hdf5\n",
            "37/37 [==============================] - 0s 1ms/step - loss: 0.6268 - accuracy: 0.7671 - val_loss: 0.2639 - val_accuracy: 0.9394\n",
            "Epoch 119/1000\n",
            " 1/37 [..............................] - ETA: 0s - loss: 0.6102 - accuracy: 0.7656\n",
            "Epoch 119: saving model to model/keypoint_classifier/keypoint_classifier.hdf5\n",
            "37/37 [==============================] - 0s 1ms/step - loss: 0.6207 - accuracy: 0.7708 - val_loss: 0.2819 - val_accuracy: 0.9246\n",
            "Epoch 120/1000\n",
            " 1/37 [..............................] - ETA: 0s - loss: 0.5442 - accuracy: 0.8125\n",
            "Epoch 120: saving model to model/keypoint_classifier/keypoint_classifier.hdf5\n",
            "37/37 [==============================] - 0s 1ms/step - loss: 0.6057 - accuracy: 0.7809 - val_loss: 0.2653 - val_accuracy: 0.9317\n",
            "Epoch 121/1000\n",
            " 1/37 [..............................] - ETA: 0s - loss: 0.4938 - accuracy: 0.8516\n",
            "Epoch 121: saving model to model/keypoint_classifier/keypoint_classifier.hdf5\n",
            "37/37 [==============================] - 0s 1ms/step - loss: 0.6338 - accuracy: 0.7635 - val_loss: 0.2737 - val_accuracy: 0.9239\n",
            "Epoch 122/1000\n",
            " 1/37 [..............................] - ETA: 0s - loss: 0.7216 - accuracy: 0.6875\n",
            "Epoch 122: saving model to model/keypoint_classifier/keypoint_classifier.hdf5\n",
            "37/37 [==============================] - 0s 1ms/step - loss: 0.6291 - accuracy: 0.7671 - val_loss: 0.2647 - val_accuracy: 0.9304\n",
            "Epoch 123/1000\n",
            " 1/37 [..............................] - ETA: 0s - loss: 0.5751 - accuracy: 0.7656\n",
            "Epoch 123: saving model to model/keypoint_classifier/keypoint_classifier.hdf5\n",
            "37/37 [==============================] - 0s 1ms/step - loss: 0.6268 - accuracy: 0.7650 - val_loss: 0.2601 - val_accuracy: 0.9381\n",
            "Epoch 124/1000\n",
            " 1/37 [..............................] - ETA: 0s - loss: 0.5985 - accuracy: 0.7656\n",
            "Epoch 124: saving model to model/keypoint_classifier/keypoint_classifier.hdf5\n",
            "37/37 [==============================] - 0s 1ms/step - loss: 0.6287 - accuracy: 0.7665 - val_loss: 0.2689 - val_accuracy: 0.9297\n",
            "Epoch 125/1000\n",
            " 1/37 [..............................] - ETA: 0s - loss: 0.7040 - accuracy: 0.7266\n",
            "Epoch 125: saving model to model/keypoint_classifier/keypoint_classifier.hdf5\n",
            "37/37 [==============================] - 0s 1ms/step - loss: 0.6167 - accuracy: 0.7695 - val_loss: 0.2700 - val_accuracy: 0.9252\n",
            "Epoch 126/1000\n",
            " 1/37 [..............................] - ETA: 0s - loss: 0.6160 - accuracy: 0.7578\n",
            "Epoch 126: saving model to model/keypoint_classifier/keypoint_classifier.hdf5\n",
            "37/37 [==============================] - 0s 1ms/step - loss: 0.6315 - accuracy: 0.7585 - val_loss: 0.2594 - val_accuracy: 0.9439\n",
            "Epoch 127/1000\n",
            " 1/37 [..............................] - ETA: 0s - loss: 0.6876 - accuracy: 0.7812\n",
            "Epoch 127: saving model to model/keypoint_classifier/keypoint_classifier.hdf5\n",
            "37/37 [==============================] - 0s 1ms/step - loss: 0.5898 - accuracy: 0.7822 - val_loss: 0.2588 - val_accuracy: 0.9407\n",
            "Epoch 128/1000\n",
            " 1/37 [..............................] - ETA: 0s - loss: 0.6401 - accuracy: 0.7734\n",
            "Epoch 128: saving model to model/keypoint_classifier/keypoint_classifier.hdf5\n",
            "37/37 [==============================] - 0s 1ms/step - loss: 0.6112 - accuracy: 0.7706 - val_loss: 0.2595 - val_accuracy: 0.9317\n",
            "Epoch 129/1000\n",
            " 1/37 [..............................] - ETA: 0s - loss: 0.6592 - accuracy: 0.7656\n",
            "Epoch 129: saving model to model/keypoint_classifier/keypoint_classifier.hdf5\n",
            "37/37 [==============================] - 0s 1ms/step - loss: 0.6171 - accuracy: 0.7626 - val_loss: 0.2559 - val_accuracy: 0.9420\n",
            "Epoch 130/1000\n",
            " 1/37 [..............................] - ETA: 0s - loss: 0.6555 - accuracy: 0.7578\n",
            "Epoch 130: saving model to model/keypoint_classifier/keypoint_classifier.hdf5\n",
            "37/37 [==============================] - 0s 1ms/step - loss: 0.6188 - accuracy: 0.7783 - val_loss: 0.2636 - val_accuracy: 0.9342\n",
            "Epoch 131/1000\n",
            " 1/37 [..............................] - ETA: 0s - loss: 0.6289 - accuracy: 0.7500\n",
            "Epoch 131: saving model to model/keypoint_classifier/keypoint_classifier.hdf5\n",
            "37/37 [==============================] - 0s 1ms/step - loss: 0.6112 - accuracy: 0.7714 - val_loss: 0.2634 - val_accuracy: 0.9310\n",
            "Epoch 132/1000\n",
            " 1/37 [..............................] - ETA: 0s - loss: 0.5934 - accuracy: 0.7656\n",
            "Epoch 132: saving model to model/keypoint_classifier/keypoint_classifier.hdf5\n",
            "37/37 [==============================] - 0s 1ms/step - loss: 0.6150 - accuracy: 0.7755 - val_loss: 0.2607 - val_accuracy: 0.9446\n",
            "Epoch 133/1000\n",
            " 1/37 [..............................] - ETA: 0s - loss: 0.5401 - accuracy: 0.8125\n",
            "Epoch 133: saving model to model/keypoint_classifier/keypoint_classifier.hdf5\n",
            "37/37 [==============================] - 0s 1ms/step - loss: 0.5946 - accuracy: 0.7745 - val_loss: 0.2590 - val_accuracy: 0.9375\n",
            "Epoch 134/1000\n",
            " 1/37 [..............................] - ETA: 0s - loss: 0.4661 - accuracy: 0.8594\n",
            "Epoch 134: saving model to model/keypoint_classifier/keypoint_classifier.hdf5\n",
            "37/37 [==============================] - 0s 1ms/step - loss: 0.6082 - accuracy: 0.7736 - val_loss: 0.2665 - val_accuracy: 0.9252\n",
            "Epoch 135/1000\n",
            " 1/37 [..............................] - ETA: 0s - loss: 0.5465 - accuracy: 0.8281\n",
            "Epoch 135: saving model to model/keypoint_classifier/keypoint_classifier.hdf5\n",
            "37/37 [==============================] - 0s 1ms/step - loss: 0.5964 - accuracy: 0.7828 - val_loss: 0.2624 - val_accuracy: 0.9387\n",
            "Epoch 136/1000\n",
            " 1/37 [..............................] - ETA: 0s - loss: 0.6174 - accuracy: 0.7969\n",
            "Epoch 136: saving model to model/keypoint_classifier/keypoint_classifier.hdf5\n",
            "37/37 [==============================] - 0s 1ms/step - loss: 0.6118 - accuracy: 0.7734 - val_loss: 0.2649 - val_accuracy: 0.9329\n",
            "Epoch 137/1000\n",
            " 1/37 [..............................] - ETA: 0s - loss: 0.6217 - accuracy: 0.7656\n",
            "Epoch 137: saving model to model/keypoint_classifier/keypoint_classifier.hdf5\n",
            "37/37 [==============================] - 0s 1ms/step - loss: 0.6283 - accuracy: 0.7671 - val_loss: 0.2748 - val_accuracy: 0.9271\n",
            "Epoch 138/1000\n",
            " 1/37 [..............................] - ETA: 0s - loss: 0.7016 - accuracy: 0.7344\n",
            "Epoch 138: saving model to model/keypoint_classifier/keypoint_classifier.hdf5\n",
            "37/37 [==============================] - 0s 1ms/step - loss: 0.6096 - accuracy: 0.7691 - val_loss: 0.2619 - val_accuracy: 0.9387\n",
            "Epoch 139/1000\n",
            " 1/37 [..............................] - ETA: 0s - loss: 0.5021 - accuracy: 0.8359\n",
            "Epoch 139: saving model to model/keypoint_classifier/keypoint_classifier.hdf5\n",
            "37/37 [==============================] - 0s 1ms/step - loss: 0.6091 - accuracy: 0.7773 - val_loss: 0.2592 - val_accuracy: 0.9400\n",
            "Epoch 140/1000\n",
            " 1/37 [..............................] - ETA: 0s - loss: 0.5535 - accuracy: 0.7969\n",
            "Epoch 140: saving model to model/keypoint_classifier/keypoint_classifier.hdf5\n",
            "37/37 [==============================] - 0s 1ms/step - loss: 0.5911 - accuracy: 0.7854 - val_loss: 0.2588 - val_accuracy: 0.9310\n",
            "Epoch 141/1000\n",
            " 1/37 [..............................] - ETA: 0s - loss: 0.4928 - accuracy: 0.8516\n",
            "Epoch 141: saving model to model/keypoint_classifier/keypoint_classifier.hdf5\n",
            "37/37 [==============================] - 0s 1ms/step - loss: 0.6137 - accuracy: 0.7742 - val_loss: 0.2609 - val_accuracy: 0.9336\n",
            "Epoch 142/1000\n",
            " 1/37 [..............................] - ETA: 0s - loss: 0.5598 - accuracy: 0.7891\n",
            "Epoch 142: saving model to model/keypoint_classifier/keypoint_classifier.hdf5\n",
            "37/37 [==============================] - 0s 1ms/step - loss: 0.6202 - accuracy: 0.7725 - val_loss: 0.2657 - val_accuracy: 0.9259\n",
            "Epoch 143/1000\n",
            " 1/37 [..............................] - ETA: 0s - loss: 0.6622 - accuracy: 0.7422\n",
            "Epoch 143: saving model to model/keypoint_classifier/keypoint_classifier.hdf5\n",
            "37/37 [==============================] - 0s 1ms/step - loss: 0.6064 - accuracy: 0.7727 - val_loss: 0.2585 - val_accuracy: 0.9375\n",
            "Epoch 144/1000\n",
            " 1/37 [..............................] - ETA: 0s - loss: 0.5271 - accuracy: 0.8125\n",
            "Epoch 144: saving model to model/keypoint_classifier/keypoint_classifier.hdf5\n",
            "37/37 [==============================] - 0s 1ms/step - loss: 0.6055 - accuracy: 0.7710 - val_loss: 0.2705 - val_accuracy: 0.9310\n",
            "Epoch 145/1000\n",
            " 1/37 [..............................] - ETA: 0s - loss: 0.6083 - accuracy: 0.7891\n",
            "Epoch 145: saving model to model/keypoint_classifier/keypoint_classifier.hdf5\n",
            "37/37 [==============================] - 0s 1ms/step - loss: 0.6066 - accuracy: 0.7777 - val_loss: 0.2612 - val_accuracy: 0.9381\n",
            "Epoch 146/1000\n",
            " 1/37 [..............................] - ETA: 0s - loss: 0.7359 - accuracy: 0.7344\n",
            "Epoch 146: saving model to model/keypoint_classifier/keypoint_classifier.hdf5\n",
            "37/37 [==============================] - 0s 1ms/step - loss: 0.5966 - accuracy: 0.7770 - val_loss: 0.2563 - val_accuracy: 0.9420\n",
            "Epoch 147/1000\n",
            " 1/37 [..............................] - ETA: 0s - loss: 0.5426 - accuracy: 0.7891\n",
            "Epoch 147: saving model to model/keypoint_classifier/keypoint_classifier.hdf5\n",
            "37/37 [==============================] - 0s 1ms/step - loss: 0.6036 - accuracy: 0.7773 - val_loss: 0.2599 - val_accuracy: 0.9336\n",
            "Epoch 148/1000\n",
            " 1/37 [..............................] - ETA: 0s - loss: 0.7045 - accuracy: 0.7344\n",
            "Epoch 148: saving model to model/keypoint_classifier/keypoint_classifier.hdf5\n",
            "37/37 [==============================] - 0s 1ms/step - loss: 0.6138 - accuracy: 0.7680 - val_loss: 0.2567 - val_accuracy: 0.9407\n",
            "Epoch 149/1000\n",
            " 1/37 [..............................] - ETA: 0s - loss: 0.6693 - accuracy: 0.7500\n",
            "Epoch 149: saving model to model/keypoint_classifier/keypoint_classifier.hdf5\n",
            "37/37 [==============================] - 0s 1ms/step - loss: 0.5977 - accuracy: 0.7781 - val_loss: 0.2500 - val_accuracy: 0.9413\n",
            "Epoch 150/1000\n",
            " 1/37 [..............................] - ETA: 0s - loss: 0.6266 - accuracy: 0.7812\n",
            "Epoch 150: saving model to model/keypoint_classifier/keypoint_classifier.hdf5\n",
            "37/37 [==============================] - 0s 1ms/step - loss: 0.6076 - accuracy: 0.7702 - val_loss: 0.2559 - val_accuracy: 0.9420\n",
            "Epoch 151/1000\n",
            " 1/37 [..............................] - ETA: 0s - loss: 0.6428 - accuracy: 0.7734\n",
            "Epoch 151: saving model to model/keypoint_classifier/keypoint_classifier.hdf5\n",
            "37/37 [==============================] - 0s 1ms/step - loss: 0.5946 - accuracy: 0.7734 - val_loss: 0.2572 - val_accuracy: 0.9362\n",
            "Epoch 152/1000\n",
            " 1/37 [..............................] - ETA: 0s - loss: 0.5887 - accuracy: 0.7734\n",
            "Epoch 152: saving model to model/keypoint_classifier/keypoint_classifier.hdf5\n",
            "37/37 [==============================] - 0s 1ms/step - loss: 0.5931 - accuracy: 0.7811 - val_loss: 0.2607 - val_accuracy: 0.9329\n",
            "Epoch 153/1000\n",
            " 1/37 [..............................] - ETA: 0s - loss: 0.5831 - accuracy: 0.8125\n",
            "Epoch 153: saving model to model/keypoint_classifier/keypoint_classifier.hdf5\n",
            "37/37 [==============================] - 0s 1ms/step - loss: 0.5906 - accuracy: 0.7846 - val_loss: 0.2508 - val_accuracy: 0.9355\n",
            "Epoch 154/1000\n",
            " 1/37 [..............................] - ETA: 0s - loss: 0.4622 - accuracy: 0.8203\n",
            "Epoch 154: saving model to model/keypoint_classifier/keypoint_classifier.hdf5\n",
            "37/37 [==============================] - 0s 1ms/step - loss: 0.6109 - accuracy: 0.7695 - val_loss: 0.2521 - val_accuracy: 0.9420\n",
            "Epoch 155/1000\n",
            " 1/37 [..............................] - ETA: 0s - loss: 0.6355 - accuracy: 0.7578\n",
            "Epoch 155: saving model to model/keypoint_classifier/keypoint_classifier.hdf5\n",
            "37/37 [==============================] - 0s 1ms/step - loss: 0.5977 - accuracy: 0.7783 - val_loss: 0.2576 - val_accuracy: 0.9362\n",
            "Epoch 156/1000\n",
            " 1/37 [..............................] - ETA: 0s - loss: 0.6036 - accuracy: 0.7656\n",
            "Epoch 156: saving model to model/keypoint_classifier/keypoint_classifier.hdf5\n",
            "37/37 [==============================] - 0s 1ms/step - loss: 0.6005 - accuracy: 0.7775 - val_loss: 0.2560 - val_accuracy: 0.9375\n",
            "Epoch 157/1000\n",
            " 1/37 [..............................] - ETA: 0s - loss: 0.7458 - accuracy: 0.7109\n",
            "Epoch 157: saving model to model/keypoint_classifier/keypoint_classifier.hdf5\n",
            "37/37 [==============================] - 0s 1ms/step - loss: 0.6031 - accuracy: 0.7687 - val_loss: 0.2583 - val_accuracy: 0.9400\n",
            "Epoch 158/1000\n",
            " 1/37 [..............................] - ETA: 0s - loss: 0.6244 - accuracy: 0.8203\n",
            "Epoch 158: saving model to model/keypoint_classifier/keypoint_classifier.hdf5\n",
            "37/37 [==============================] - 0s 1ms/step - loss: 0.6013 - accuracy: 0.7803 - val_loss: 0.2632 - val_accuracy: 0.9342\n",
            "Epoch 159/1000\n",
            " 1/37 [..............................] - ETA: 0s - loss: 0.6309 - accuracy: 0.7734\n",
            "Epoch 159: saving model to model/keypoint_classifier/keypoint_classifier.hdf5\n",
            "37/37 [==============================] - 0s 1ms/step - loss: 0.5736 - accuracy: 0.7809 - val_loss: 0.2638 - val_accuracy: 0.9394\n",
            "Epoch 160/1000\n",
            " 1/37 [..............................] - ETA: 0s - loss: 0.5692 - accuracy: 0.8047\n",
            "Epoch 160: saving model to model/keypoint_classifier/keypoint_classifier.hdf5\n",
            "37/37 [==============================] - 0s 1ms/step - loss: 0.6028 - accuracy: 0.7779 - val_loss: 0.2625 - val_accuracy: 0.9413\n",
            "Epoch 161/1000\n",
            " 1/37 [..............................] - ETA: 0s - loss: 0.5285 - accuracy: 0.7969\n",
            "Epoch 161: saving model to model/keypoint_classifier/keypoint_classifier.hdf5\n",
            "37/37 [==============================] - 0s 1ms/step - loss: 0.5966 - accuracy: 0.7848 - val_loss: 0.2599 - val_accuracy: 0.9381\n",
            "Epoch 162/1000\n",
            " 1/37 [..............................] - ETA: 0s - loss: 0.6262 - accuracy: 0.7656\n",
            "Epoch 162: saving model to model/keypoint_classifier/keypoint_classifier.hdf5\n",
            "37/37 [==============================] - 0s 1ms/step - loss: 0.6015 - accuracy: 0.7766 - val_loss: 0.2595 - val_accuracy: 0.9407\n",
            "Epoch 163/1000\n",
            " 1/37 [..............................] - ETA: 0s - loss: 0.6780 - accuracy: 0.7656\n",
            "Epoch 163: saving model to model/keypoint_classifier/keypoint_classifier.hdf5\n",
            "37/37 [==============================] - 0s 1ms/step - loss: 0.5809 - accuracy: 0.7929 - val_loss: 0.2526 - val_accuracy: 0.9458\n",
            "Epoch 164/1000\n",
            " 1/37 [..............................] - ETA: 0s - loss: 0.6435 - accuracy: 0.7812\n",
            "Epoch 164: saving model to model/keypoint_classifier/keypoint_classifier.hdf5\n",
            "37/37 [==============================] - 0s 1ms/step - loss: 0.6050 - accuracy: 0.7753 - val_loss: 0.2510 - val_accuracy: 0.9407\n",
            "Epoch 165/1000\n",
            " 1/37 [..............................] - ETA: 0s - loss: 0.5259 - accuracy: 0.8125\n",
            "Epoch 165: saving model to model/keypoint_classifier/keypoint_classifier.hdf5\n",
            "37/37 [==============================] - 0s 1ms/step - loss: 0.6119 - accuracy: 0.7745 - val_loss: 0.2437 - val_accuracy: 0.9465\n",
            "Epoch 166/1000\n",
            " 1/37 [..............................] - ETA: 0s - loss: 0.5132 - accuracy: 0.8047\n",
            "Epoch 166: saving model to model/keypoint_classifier/keypoint_classifier.hdf5\n",
            "37/37 [==============================] - 0s 1ms/step - loss: 0.6017 - accuracy: 0.7762 - val_loss: 0.2508 - val_accuracy: 0.9446\n",
            "Epoch 167/1000\n",
            " 1/37 [..............................] - ETA: 0s - loss: 0.5332 - accuracy: 0.7422\n",
            "Epoch 167: saving model to model/keypoint_classifier/keypoint_classifier.hdf5\n",
            "37/37 [==============================] - 0s 2ms/step - loss: 0.5957 - accuracy: 0.7837 - val_loss: 0.2567 - val_accuracy: 0.9387\n",
            "Epoch 168/1000\n",
            " 1/37 [..............................] - ETA: 0s - loss: 0.6504 - accuracy: 0.7422\n",
            "Epoch 168: saving model to model/keypoint_classifier/keypoint_classifier.hdf5\n",
            "37/37 [==============================] - 0s 1ms/step - loss: 0.6157 - accuracy: 0.7712 - val_loss: 0.2532 - val_accuracy: 0.9394\n",
            "Epoch 169/1000\n",
            " 1/37 [..............................] - ETA: 0s - loss: 0.6498 - accuracy: 0.7969\n",
            "Epoch 169: saving model to model/keypoint_classifier/keypoint_classifier.hdf5\n",
            "37/37 [==============================] - 0s 1ms/step - loss: 0.5744 - accuracy: 0.7871 - val_loss: 0.2541 - val_accuracy: 0.9433\n",
            "Epoch 170/1000\n",
            " 1/37 [..............................] - ETA: 0s - loss: 0.6457 - accuracy: 0.7578\n",
            "Epoch 170: saving model to model/keypoint_classifier/keypoint_classifier.hdf5\n",
            "37/37 [==============================] - 0s 1ms/step - loss: 0.5772 - accuracy: 0.7874 - val_loss: 0.2593 - val_accuracy: 0.9381\n",
            "Epoch 171/1000\n",
            " 1/37 [..............................] - ETA: 0s - loss: 0.6285 - accuracy: 0.7500\n",
            "Epoch 171: saving model to model/keypoint_classifier/keypoint_classifier.hdf5\n",
            "37/37 [==============================] - 0s 1ms/step - loss: 0.5811 - accuracy: 0.7792 - val_loss: 0.2508 - val_accuracy: 0.9458\n",
            "Epoch 172/1000\n",
            " 1/37 [..............................] - ETA: 0s - loss: 0.6063 - accuracy: 0.7734\n",
            "Epoch 172: saving model to model/keypoint_classifier/keypoint_classifier.hdf5\n",
            "37/37 [==============================] - 0s 1ms/step - loss: 0.6087 - accuracy: 0.7721 - val_loss: 0.2555 - val_accuracy: 0.9362\n",
            "Epoch 173/1000\n",
            " 1/37 [..............................] - ETA: 0s - loss: 0.6702 - accuracy: 0.7578\n",
            "Epoch 173: saving model to model/keypoint_classifier/keypoint_classifier.hdf5\n",
            "37/37 [==============================] - 0s 1ms/step - loss: 0.6169 - accuracy: 0.7732 - val_loss: 0.2554 - val_accuracy: 0.9420\n",
            "Epoch 174/1000\n",
            " 1/37 [..............................] - ETA: 0s - loss: 0.6190 - accuracy: 0.8281\n",
            "Epoch 174: saving model to model/keypoint_classifier/keypoint_classifier.hdf5\n",
            "37/37 [==============================] - 0s 1ms/step - loss: 0.5920 - accuracy: 0.7861 - val_loss: 0.2615 - val_accuracy: 0.9355\n",
            "Epoch 175/1000\n",
            " 1/37 [..............................] - ETA: 0s - loss: 0.6406 - accuracy: 0.7891\n",
            "Epoch 175: saving model to model/keypoint_classifier/keypoint_classifier.hdf5\n",
            "37/37 [==============================] - 0s 1ms/step - loss: 0.5958 - accuracy: 0.7805 - val_loss: 0.2573 - val_accuracy: 0.9407\n",
            "Epoch 176/1000\n",
            " 1/37 [..............................] - ETA: 0s - loss: 0.5701 - accuracy: 0.7656\n",
            "Epoch 176: saving model to model/keypoint_classifier/keypoint_classifier.hdf5\n",
            "37/37 [==============================] - 0s 1ms/step - loss: 0.5951 - accuracy: 0.7785 - val_loss: 0.2578 - val_accuracy: 0.9381\n",
            "Epoch 177/1000\n",
            " 1/37 [..............................] - ETA: 0s - loss: 0.5634 - accuracy: 0.7812\n",
            "Epoch 177: saving model to model/keypoint_classifier/keypoint_classifier.hdf5\n",
            "37/37 [==============================] - 0s 1ms/step - loss: 0.5807 - accuracy: 0.7839 - val_loss: 0.2569 - val_accuracy: 0.9349\n",
            "Epoch 178/1000\n",
            " 1/37 [..............................] - ETA: 0s - loss: 0.5325 - accuracy: 0.8047\n",
            "Epoch 178: saving model to model/keypoint_classifier/keypoint_classifier.hdf5\n",
            "37/37 [==============================] - 0s 1ms/step - loss: 0.5778 - accuracy: 0.7820 - val_loss: 0.2606 - val_accuracy: 0.9355\n",
            "Epoch 179/1000\n",
            " 1/37 [..............................] - ETA: 0s - loss: 0.5616 - accuracy: 0.8125\n",
            "Epoch 179: saving model to model/keypoint_classifier/keypoint_classifier.hdf5\n",
            "37/37 [==============================] - 0s 1ms/step - loss: 0.5916 - accuracy: 0.7824 - val_loss: 0.2595 - val_accuracy: 0.9329\n",
            "Epoch 180/1000\n",
            " 1/37 [..............................] - ETA: 0s - loss: 0.6562 - accuracy: 0.7344\n",
            "Epoch 180: saving model to model/keypoint_classifier/keypoint_classifier.hdf5\n",
            "37/37 [==============================] - 0s 1ms/step - loss: 0.5935 - accuracy: 0.7813 - val_loss: 0.2515 - val_accuracy: 0.9368\n",
            "Epoch 181/1000\n",
            " 1/37 [..............................] - ETA: 0s - loss: 0.8482 - accuracy: 0.7188\n",
            "Epoch 181: saving model to model/keypoint_classifier/keypoint_classifier.hdf5\n",
            "37/37 [==============================] - 0s 1ms/step - loss: 0.6112 - accuracy: 0.7811 - val_loss: 0.2672 - val_accuracy: 0.9375\n",
            "Epoch 182/1000\n",
            " 1/37 [..............................] - ETA: 0s - loss: 0.5862 - accuracy: 0.7812\n",
            "Epoch 182: saving model to model/keypoint_classifier/keypoint_classifier.hdf5\n",
            "37/37 [==============================] - 0s 1ms/step - loss: 0.5857 - accuracy: 0.7848 - val_loss: 0.2588 - val_accuracy: 0.9355\n",
            "Epoch 183/1000\n",
            " 1/37 [..............................] - ETA: 0s - loss: 0.6311 - accuracy: 0.7656\n",
            "Epoch 183: saving model to model/keypoint_classifier/keypoint_classifier.hdf5\n",
            "37/37 [==============================] - 0s 1ms/step - loss: 0.6107 - accuracy: 0.7732 - val_loss: 0.2672 - val_accuracy: 0.9317\n",
            "Epoch 184/1000\n",
            " 1/37 [..............................] - ETA: 0s - loss: 0.6060 - accuracy: 0.7812\n",
            "Epoch 184: saving model to model/keypoint_classifier/keypoint_classifier.hdf5\n",
            "37/37 [==============================] - 0s 1ms/step - loss: 0.5801 - accuracy: 0.7837 - val_loss: 0.2538 - val_accuracy: 0.9323\n",
            "Epoch 185/1000\n",
            " 1/37 [..............................] - ETA: 0s - loss: 0.5235 - accuracy: 0.8125\n",
            "Epoch 185: saving model to model/keypoint_classifier/keypoint_classifier.hdf5\n",
            "37/37 [==============================] - 0s 2ms/step - loss: 0.5800 - accuracy: 0.7818 - val_loss: 0.2602 - val_accuracy: 0.9381\n",
            "Epoch 185: early stopping\n"
          ]
        },
        {
          "data": {
            "text/plain": [
              "<keras.src.callbacks.History at 0x2aaf52fa0>"
            ]
          },
          "execution_count": 35,
          "metadata": {},
          "output_type": "execute_result"
        }
      ],
      "source": [
        "model.fit(\n",
        "    X_train,\n",
        "    y_train,\n",
        "    epochs=1000,\n",
        "    batch_size=128,\n",
        "    validation_data=(X_test, y_test),\n",
        "    callbacks=[cp_callback, es_callback]\n",
        ")"
      ]
    },
    {
      "cell_type": "code",
      "execution_count": 36,
      "metadata": {
        "colab": {
          "base_uri": "https://localhost:8080/"
        },
        "id": "pxvb2Y299hE3",
        "outputId": "59eb3185-2e37-4b9e-bc9d-ab1b8ac29b7f"
      },
      "outputs": [
        {
          "name": "stdout",
          "output_type": "stream",
          "text": [
            "13/13 [==============================] - 0s 464us/step - loss: 0.2602 - accuracy: 0.9381\n"
          ]
        }
      ],
      "source": [
        "# Model evaluation\n",
        "val_loss, val_acc = model.evaluate(X_test, y_test, batch_size=128)"
      ]
    },
    {
      "cell_type": "code",
      "execution_count": 37,
      "metadata": {
        "id": "RBkmDeUW9hE4"
      },
      "outputs": [],
      "source": [
        "# Loading the saved model\n",
        "model = tf.keras.models.load_model(model_save_path)"
      ]
    },
    {
      "cell_type": "code",
      "execution_count": 38,
      "metadata": {
        "colab": {
          "base_uri": "https://localhost:8080/"
        },
        "id": "tFz9Tb0I9hE4",
        "outputId": "1c3b3528-54ae-4ee2-ab04-77429211cbef"
      },
      "outputs": [
        {
          "name": "stdout",
          "output_type": "stream",
          "text": [
            "1/1 [==============================] - 0s 27ms/step\n",
            "[5.2983411e-02 4.0526867e-02 1.1957591e-06 6.5183294e-06 6.4251502e-09\n",
            " 1.9682950e-04 4.3270095e-08 9.0628523e-01]\n",
            "7\n"
          ]
        }
      ],
      "source": [
        "# Inference test\n",
        "predict_result = model.predict(np.array([X_test[0]]))\n",
        "print(np.squeeze(predict_result))\n",
        "print(np.argmax(np.squeeze(predict_result)))"
      ]
    },
    {
      "cell_type": "markdown",
      "metadata": {
        "id": "S3U4yNWx9hE4"
      },
      "source": [
        "# Confusion matrix"
      ]
    },
    {
      "cell_type": "code",
      "execution_count": 39,
      "metadata": {
        "colab": {
          "base_uri": "https://localhost:8080/",
          "height": 582
        },
        "id": "AP1V6SCk9hE5",
        "outputId": "08e41a80-7a4a-4619-8125-ecc371368d19"
      },
      "outputs": [
        {
          "name": "stdout",
          "output_type": "stream",
          "text": [
            "49/49 [==============================] - 0s 448us/step\n"
          ]
        },
        {
          "data": {
            "image/png": "[encoded data removed]",
            "text/plain": [
              "<Figure size 700x600 with 2 Axes>"
            ]
          },
          "metadata": {},
          "output_type": "display_data"
        },
        {
          "name": "stdout",
          "output_type": "stream",
          "text": [
            "Classification Report\n",
            "              precision    recall  f1-score   support\n",
            "\n",
            "           0       0.96      0.94      0.95       407\n",
            "           1       0.99      0.84      0.91       395\n",
            "           2       0.99      0.99      0.99        86\n",
            "           3       0.88      0.99      0.93       153\n",
            "           4       0.90      0.95      0.92        74\n",
            "           5       0.97      0.97      0.97       122\n",
            "           6       0.94      1.00      0.97       125\n",
            "           7       0.84      1.00      0.91       189\n",
            "\n",
            "    accuracy                           0.94      1551\n",
            "   macro avg       0.93      0.96      0.94      1551\n",
            "weighted avg       0.94      0.94      0.94      1551\n",
            "\n"
          ]
        }
      ],
      "source": [
        "import pandas as pd\n",
        "import seaborn as sns\n",
        "import matplotlib.pyplot as plt\n",
        "from sklearn.metrics import confusion_matrix, classification_report\n",
        "\n",
        "def print_confusion_matrix(y_true, y_pred, report=True):\n",
        "    labels = sorted(list(set(y_true)))\n",
        "    cmx_data = confusion_matrix(y_true, y_pred, labels=labels)\n",
        "    \n",
        "    df_cmx = pd.DataFrame(cmx_data, index=labels, columns=labels)\n",
        " \n",
        "    fig, ax = plt.subplots(figsize=(7, 6))\n",
        "    sns.heatmap(df_cmx, annot=True, fmt='g' ,square=False)\n",
        "    ax.set_ylim(len(set(y_true)), 0)\n",
        "    plt.show()\n",
        "    \n",
        "    if report:\n",
        "        print('Classification Report')\n",
        "        print(classification_report(y_test, y_pred))\n",
        "\n",
        "Y_pred = model.predict(X_test)\n",
        "y_pred = np.argmax(Y_pred, axis=1)\n",
        "\n",
        "print_confusion_matrix(y_test, y_pred)"
      ]
    },
    {
      "cell_type": "markdown",
      "metadata": {
        "id": "FNP6aqzc9hE5"
      },
      "source": [
        "# Convert to model for Tensorflow-Lite"
      ]
    },
    {
      "cell_type": "code",
      "execution_count": 40,
      "metadata": {
        "id": "ODjnYyld9hE6"
      },
      "outputs": [
        {
          "name": "stderr",
          "output_type": "stream",
          "text": [
            "/Users/jolson/source/sandbox/mp-gesture-recognition/venv/lib/python3.9/site-packages/keras/src/engine/training.py:3000: UserWarning: You are saving your model as an HDF5 file via `model.save()`. This file format is considered legacy. We recommend using instead the native Keras format, e.g. `model.save('my_model.keras')`.\n",
            "  saving_api.save_model(\n"
          ]
        }
      ],
      "source": [
        "# Save as a model dedicated to inference\n",
        "model.save(model_save_path, include_optimizer=False)"
      ]
    },
    {
      "cell_type": "code",
      "execution_count": 41,
      "metadata": {
        "colab": {
          "base_uri": "https://localhost:8080/"
        },
        "id": "zRfuK8Y59hE6",
        "outputId": "a4ca585c-b5d5-4244-8291-8674063209bb"
      },
      "outputs": [
        {
          "name": "stdout",
          "output_type": "stream",
          "text": [
            "INFO:tensorflow:Assets written to: /var/folders/3r/kqg4tlpd7jn4h13d2xdsd9vc0000gq/T/tmpq3hrz0bn/assets\n"
          ]
        },
        {
          "name": "stderr",
          "output_type": "stream",
          "text": [
            "INFO:tensorflow:Assets written to: /var/folders/3r/kqg4tlpd7jn4h13d2xdsd9vc0000gq/T/tmpq3hrz0bn/assets\n",
            "2024-05-07 23:15:47.629793: W tensorflow/compiler/mlir/lite/python/tf_tfl_flatbuffer_helpers.cc:364] Ignored output_format.\n",
            "2024-05-07 23:15:47.629808: W tensorflow/compiler/mlir/lite/python/tf_tfl_flatbuffer_helpers.cc:367] Ignored drop_control_dependency.\n",
            "2024-05-07 23:15:47.630014: I tensorflow/cc/saved_model/reader.cc:45] Reading SavedModel from: /var/folders/3r/kqg4tlpd7jn4h13d2xdsd9vc0000gq/T/tmpq3hrz0bn\n",
            "2024-05-07 23:15:47.630711: I tensorflow/cc/saved_model/reader.cc:91] Reading meta graph with tags { serve }\n",
            "2024-05-07 23:15:47.630717: I tensorflow/cc/saved_model/reader.cc:132] Reading SavedModel debug info (if present) from: /var/folders/3r/kqg4tlpd7jn4h13d2xdsd9vc0000gq/T/tmpq3hrz0bn\n",
            "2024-05-07 23:15:47.632889: I tensorflow/cc/saved_model/loader.cc:231] Restoring SavedModel bundle.\n",
            "2024-05-07 23:15:47.662301: I tensorflow/cc/saved_model/loader.cc:215] Running initialization op on SavedModel bundle at path: /var/folders/3r/kqg4tlpd7jn4h13d2xdsd9vc0000gq/T/tmpq3hrz0bn\n",
            "2024-05-07 23:15:47.670848: I tensorflow/cc/saved_model/loader.cc:314] SavedModel load for tags { serve }; Status: success: OK. Took 40834 microseconds.\n"
          ]
        },
        {
          "data": {
            "text/plain": [
              "6748"
            ]
          },
          "execution_count": 41,
          "metadata": {},
          "output_type": "execute_result"
        }
      ],
      "source": [
        "# Transform model (quantization)\n",
        "\n",
        "converter = tf.lite.TFLiteConverter.from_keras_model(model)\n",
        "converter.optimizations = [tf.lite.Optimize.DEFAULT]\n",
        "tflite_quantized_model = converter.convert()\n",
        "\n",
        "open(tflite_save_path, 'wb').write(tflite_quantized_model)"
      ]
    },
    {
      "cell_type": "markdown",
      "metadata": {
        "id": "CHBPBXdx9hE6"
      },
      "source": [
        "# Inference test"
      ]
    },
    {
      "cell_type": "code",
      "execution_count": 42,
      "metadata": {
        "id": "mGAzLocO9hE7"
      },
      "outputs": [],
      "source": [
        "interpreter = tf.lite.Interpreter(model_path=tflite_save_path)\n",
        "interpreter.allocate_tensors()"
      ]
    },
    {
      "cell_type": "code",
      "execution_count": 43,
      "metadata": {
        "id": "oQuDK8YS9hE7"
      },
      "outputs": [],
      "source": [
        "# Get I / O tensor\n",
        "input_details = interpreter.get_input_details()\n",
        "output_details = interpreter.get_output_details()"
      ]
    },
    {
      "cell_type": "code",
      "execution_count": 44,
      "metadata": {
        "id": "2_ixAf_l9hE7"
      },
      "outputs": [],
      "source": [
        "interpreter.set_tensor(input_details[0]['index'], np.array([X_test[0]]))"
      ]
    },
    {
      "cell_type": "code",
      "execution_count": 45,
      "metadata": {
        "colab": {
          "base_uri": "https://localhost:8080/"
        },
        "id": "s4FoAnuc9hE7",
        "outputId": "91f18257-8d8b-4ef3-c558-e9b5f94fabbf",
        "scrolled": true
      },
      "outputs": [
        {
          "name": "stdout",
          "output_type": "stream",
          "text": [
            "CPU times: user 95 µs, sys: 55 µs, total: 150 µs\n",
            "Wall time: 139 µs\n"
          ]
        }
      ],
      "source": [
        "%%time\n",
        "# Inference implementation\n",
        "interpreter.invoke()\n",
        "tflite_results = interpreter.get_tensor(output_details[0]['index'])"
      ]
    },
    {
      "cell_type": "code",
      "execution_count": 46,
      "metadata": {
        "colab": {
          "base_uri": "https://localhost:8080/"
        },
        "id": "vONjp19J9hE8",
        "outputId": "77205e24-fd00-42c4-f7b6-e06e527c2cba"
      },
      "outputs": [
        {
          "name": "stdout",
          "output_type": "stream",
          "text": [
            "[5.2983433e-02 4.0526904e-02 1.1957592e-06 6.5183235e-06 6.4251253e-09\n",
            " 1.9682928e-04 4.3270017e-08 9.0628517e-01]\n",
            "7\n"
          ]
        }
      ],
      "source": [
        "print(np.squeeze(tflite_results))\n",
        "print(np.argmax(np.squeeze(tflite_results)))"
      ]
    }
  ],
  "metadata": {
    "accelerator": "GPU",
    "colab": {
      "collapsed_sections": [],
      "name": "keypoint_classification_EN.ipynb",
      "provenance": [],
      "toc_visible": true
    },
    "kernelspec": {
      "display_name": "Python 3",
      "language": "python",
      "name": "python3"
    },
    "language_info": {
      "codemirror_mode": {
        "name": "ipython",
        "version": 3
      },
      "file_extension": ".py",
      "mimetype": "text/x-python",
      "name": "python",
      "nbconvert_exporter": "python",
      "pygments_lexer": "ipython3",
      "version": "3.9.6"
    }
  },
  "nbformat": 4,
  "nbformat_minor": 0
}
